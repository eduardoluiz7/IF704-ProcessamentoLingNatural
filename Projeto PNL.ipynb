{
 "cells": [
  {
   "cell_type": "markdown",
   "id": "90b50a47",
   "metadata": {},
   "source": [
    "## Classificação de Intenções"
   ]
  },
  {
   "cell_type": "markdown",
   "id": "1ef5ee68",
   "metadata": {},
   "source": [
    "Criando um classificador de intenções com dados do **multiwoz 2.2** usando tensorflow. O serviço escolhido foi o de trens, que possui os intents \"find_train\", \"book_train\" e \"NONE\" (intent não detectado ou não conhecido)."
   ]
  },
  {
   "cell_type": "code",
   "execution_count": 1,
   "id": "5a4ed52f",
   "metadata": {},
   "outputs": [],
   "source": [
    "import pandas as pd\n",
    "import tensorflow as tf\n",
    "import re\n",
    "import shutil\n",
    "import string\n",
    "from tensorflow.keras.layers import Dense, Embedding, TextVectorization, GlobalAveragePooling1D, Dropout\n",
    "from tensorflow.keras import losses, Sequential"
   ]
  },
  {
   "cell_type": "markdown",
   "id": "9f1958c6",
   "metadata": {},
   "source": [
    "Carregando dataset com os dados das entradas de texto e os intents"
   ]
  },
  {
   "cell_type": "code",
   "execution_count": 5,
   "id": "d2af595d",
   "metadata": {},
   "outputs": [
    {
     "data": {
      "text/html": [
       "<div>\n",
       "<style scoped>\n",
       "    .dataframe tbody tr th:only-of-type {\n",
       "        vertical-align: middle;\n",
       "    }\n",
       "\n",
       "    .dataframe tbody tr th {\n",
       "        vertical-align: top;\n",
       "    }\n",
       "\n",
       "    .dataframe thead th {\n",
       "        text-align: right;\n",
       "    }\n",
       "</style>\n",
       "<table border=\"1\" class=\"dataframe\">\n",
       "  <thead>\n",
       "    <tr style=\"text-align: right;\">\n",
       "      <th></th>\n",
       "      <th>utterance</th>\n",
       "      <th>find_train</th>\n",
       "      <th>book_train</th>\n",
       "      <th>NONE</th>\n",
       "    </tr>\n",
       "  </thead>\n",
       "  <tbody>\n",
       "    <tr>\n",
       "      <th>0</th>\n",
       "      <td>i need a train on tuesday out of kings lynn</td>\n",
       "      <td>1</td>\n",
       "      <td>0</td>\n",
       "      <td>0</td>\n",
       "    </tr>\n",
       "    <tr>\n",
       "      <th>1</th>\n",
       "      <td>I want to leave on Tuesday.</td>\n",
       "      <td>1</td>\n",
       "      <td>0</td>\n",
       "      <td>0</td>\n",
       "    </tr>\n",
       "    <tr>\n",
       "      <th>2</th>\n",
       "      <td>I'd like to leave after 9:30.</td>\n",
       "      <td>1</td>\n",
       "      <td>0</td>\n",
       "      <td>0</td>\n",
       "    </tr>\n",
       "    <tr>\n",
       "      <th>3</th>\n",
       "      <td>Looking for a train Tuesday leaving kings lynn...</td>\n",
       "      <td>1</td>\n",
       "      <td>0</td>\n",
       "      <td>0</td>\n",
       "    </tr>\n",
       "    <tr>\n",
       "      <th>4</th>\n",
       "      <td>No, I'd like a train leaving after 09:30 depar...</td>\n",
       "      <td>1</td>\n",
       "      <td>0</td>\n",
       "      <td>0</td>\n",
       "    </tr>\n",
       "  </tbody>\n",
       "</table>\n",
       "</div>"
      ],
      "text/plain": [
       "                                           utterance  find_train  book_train  \\\n",
       "0        i need a train on tuesday out of kings lynn           1           0   \n",
       "1                        I want to leave on Tuesday.           1           0   \n",
       "2                      I'd like to leave after 9:30.           1           0   \n",
       "3  Looking for a train Tuesday leaving kings lynn...           1           0   \n",
       "4  No, I'd like a train leaving after 09:30 depar...           1           0   \n",
       "\n",
       "   NONE  \n",
       "0     0  \n",
       "1     0  \n",
       "2     0  \n",
       "3     0  \n",
       "4     0  "
      ]
     },
     "execution_count": 5,
     "metadata": {},
     "output_type": "execute_result"
    }
   ],
   "source": [
    "textIntents = pd.read_csv('util/dadosTratados.csv', index_col=0)\n",
    "textIntents.head()"
   ]
  },
  {
   "cell_type": "markdown",
   "id": "677a7803",
   "metadata": {},
   "source": [
    "Embaralhando o dataset"
   ]
  },
  {
   "cell_type": "code",
   "execution_count": 6,
   "id": "3c793916",
   "metadata": {},
   "outputs": [
    {
     "data": {
      "text/html": [
       "<div>\n",
       "<style scoped>\n",
       "    .dataframe tbody tr th:only-of-type {\n",
       "        vertical-align: middle;\n",
       "    }\n",
       "\n",
       "    .dataframe tbody tr th {\n",
       "        vertical-align: top;\n",
       "    }\n",
       "\n",
       "    .dataframe thead th {\n",
       "        text-align: right;\n",
       "    }\n",
       "</style>\n",
       "<table border=\"1\" class=\"dataframe\">\n",
       "  <thead>\n",
       "    <tr style=\"text-align: right;\">\n",
       "      <th></th>\n",
       "      <th>utterance</th>\n",
       "      <th>find_train</th>\n",
       "      <th>book_train</th>\n",
       "      <th>NONE</th>\n",
       "    </tr>\n",
       "  </thead>\n",
       "  <tbody>\n",
       "    <tr>\n",
       "      <th>15299</th>\n",
       "      <td>Yes, I think that's all I needed. Have a good ...</td>\n",
       "      <td>0</td>\n",
       "      <td>0</td>\n",
       "      <td>1</td>\n",
       "    </tr>\n",
       "    <tr>\n",
       "      <th>28257</th>\n",
       "      <td>Yes please!! I would also like to book a train...</td>\n",
       "      <td>1</td>\n",
       "      <td>0</td>\n",
       "      <td>0</td>\n",
       "    </tr>\n",
       "    <tr>\n",
       "      <th>14453</th>\n",
       "      <td>Yes I would like a guesthouse in the north.</td>\n",
       "      <td>0</td>\n",
       "      <td>0</td>\n",
       "      <td>1</td>\n",
       "    </tr>\n",
       "    <tr>\n",
       "      <th>1982</th>\n",
       "      <td>I'd like to leave after 10:00. I need you to b...</td>\n",
       "      <td>0</td>\n",
       "      <td>1</td>\n",
       "      <td>0</td>\n",
       "    </tr>\n",
       "    <tr>\n",
       "      <th>1485</th>\n",
       "      <td>I also need a train departing from cambridge g...</td>\n",
       "      <td>1</td>\n",
       "      <td>0</td>\n",
       "      <td>0</td>\n",
       "    </tr>\n",
       "  </tbody>\n",
       "</table>\n",
       "</div>"
      ],
      "text/plain": [
       "                                               utterance  find_train  \\\n",
       "15299  Yes, I think that's all I needed. Have a good ...           0   \n",
       "28257  Yes please!! I would also like to book a train...           1   \n",
       "14453        Yes I would like a guesthouse in the north.           0   \n",
       "1982   I'd like to leave after 10:00. I need you to b...           0   \n",
       "1485   I also need a train departing from cambridge g...           1   \n",
       "\n",
       "       book_train  NONE  \n",
       "15299           0     1  \n",
       "28257           0     0  \n",
       "14453           0     1  \n",
       "1982            1     0  \n",
       "1485            0     0  "
      ]
     },
     "execution_count": 6,
     "metadata": {},
     "output_type": "execute_result"
    }
   ],
   "source": [
    "textIntents = textIntents.sample(frac=1)\n",
    "textIntents.head(5)"
   ]
  },
  {
   "cell_type": "markdown",
   "id": "7cbd3e89",
   "metadata": {},
   "source": [
    "Iniciando vetorização dos textos (usando exemplos da documentação do tf como base)"
   ]
  },
  {
   "cell_type": "code",
   "execution_count": 7,
   "id": "1859e6df",
   "metadata": {},
   "outputs": [],
   "source": [
    "def custom_standardization(input_data):\n",
    "    lowercase = tf.strings.lower(input_data)\n",
    "    stripped_html = tf.strings.regex_replace(lowercase, '<br />', ' ')\n",
    "    return tf.strings.regex_replace(stripped_html,\n",
    "                                  '[%s]' % re.escape(string.punctuation), '')"
   ]
  },
  {
   "cell_type": "code",
   "execution_count": 9,
   "id": "652eab10",
   "metadata": {},
   "outputs": [],
   "source": [
    "vocab_size = 10000\n",
    "sequence_length = 100\n",
    "\n",
    "vectorize_layer = TextVectorization(\n",
    "    standardize=custom_standardization,\n",
    "    max_tokens=vocab_size,\n",
    "    output_mode='int',\n",
    "    output_sequence_length=sequence_length)"
   ]
  },
  {
   "cell_type": "code",
   "execution_count": 10,
   "id": "1a9d5a51",
   "metadata": {},
   "outputs": [],
   "source": [
    "def text2vector(text):\n",
    "    return vectorize_layer(text)"
   ]
  },
  {
   "cell_type": "code",
   "execution_count": 11,
   "id": "5e492656",
   "metadata": {},
   "outputs": [],
   "source": [
    "textos_ex = textIntents['utterance'].tolist()\n",
    "vectorize_layer.adapt(textos_ex)"
   ]
  },
  {
   "cell_type": "markdown",
   "id": "790386b5",
   "metadata": {},
   "source": [
    "Criando modelo"
   ]
  },
  {
   "cell_type": "code",
   "execution_count": 12,
   "id": "1fc1a333",
   "metadata": {},
   "outputs": [
    {
     "data": {
      "image/png": "[encoded data removed]",
      "text/plain": [
       "<IPython.core.display.Image object>"
      ]
     },
     "execution_count": 12,
     "metadata": {},
     "output_type": "execute_result"
    }
   ],
   "source": [
    "embedding_dim=16\n",
    "\n",
    "model = Sequential([\n",
    "  Embedding(vocab_size, embedding_dim, name=\"embedding\"), Dropout(0.2),\n",
    "  GlobalAveragePooling1D(), Dropout(0.2), Dense(16),\n",
    "  Dense(3, activation='softmax')\n",
    "])\n",
    "\n",
    "tf.keras.utils.plot_model(\n",
    "    model,\n",
    "    to_file=\"model.png\",\n",
    "    show_shapes=True,\n",
    "    show_layer_names=True,\n",
    "    rankdir=\"TB\",\n",
    "    expand_nested=True,\n",
    "    dpi=96,\n",
    ")"
   ]
  },
  {
   "cell_type": "code",
   "execution_count": 30,
   "id": "29aaedc4",
   "metadata": {},
   "outputs": [],
   "source": [
    "tensorboard_callback = tf.keras.callbacks.TensorBoard(log_dir=\"logs\")"
   ]
  },
  {
   "cell_type": "code",
   "execution_count": 32,
   "id": "d9bd0e43",
   "metadata": {},
   "outputs": [],
   "source": [
    "model.compile(optimizer='adam',\n",
    "              loss=tf.keras.losses.CategoricalCrossentropy(),\n",
    "              metrics=['accuracy'])"
   ]
  },
  {
   "cell_type": "code",
   "execution_count": 33,
   "id": "e451e82e",
   "metadata": {},
   "outputs": [],
   "source": [
    "texts = textIntents['utterance'].tolist()\n",
    "X_train = tf.convert_to_tensor([text2vector(text) for text in texts])"
   ]
  },
  {
   "cell_type": "code",
   "execution_count": 35,
   "id": "68f25bb3",
   "metadata": {},
   "outputs": [],
   "source": [
    "Y_train = textIntents.loc[:, textIntents.columns != 'utterance']\n",
    "Y_train = tf.convert_to_tensor(Y_train)"
   ]
  },
  {
   "cell_type": "markdown",
   "id": "5f1be667",
   "metadata": {},
   "source": [
    "Treinamento do modelo"
   ]
  },
  {
   "cell_type": "code",
   "execution_count": 36,
   "id": "864be7f8",
   "metadata": {},
   "outputs": [
    {
     "name": "stdout",
     "output_type": "stream",
     "text": [
      "Epoch 1/30\n",
      "453/453 [==============================] - 3s 5ms/step - loss: 0.8730 - accuracy: 0.6297 - val_loss: 0.6395 - val_accuracy: 0.7886\n",
      "Epoch 2/30\n",
      "453/453 [==============================] - 2s 4ms/step - loss: 0.5050 - accuracy: 0.8184 - val_loss: 0.4467 - val_accuracy: 0.8343\n",
      "Epoch 3/30\n",
      "453/453 [==============================] - 2s 4ms/step - loss: 0.3918 - accuracy: 0.8594 - val_loss: 0.3733 - val_accuracy: 0.8724\n",
      "Epoch 4/30\n",
      "453/453 [==============================] - 2s 4ms/step - loss: 0.3507 - accuracy: 0.8789 - val_loss: 0.3461 - val_accuracy: 0.8801\n",
      "Epoch 5/30\n",
      "453/453 [==============================] - 2s 4ms/step - loss: 0.3321 - accuracy: 0.8867 - val_loss: 0.3315 - val_accuracy: 0.8920\n",
      "Epoch 6/30\n",
      "453/453 [==============================] - 2s 4ms/step - loss: 0.3178 - accuracy: 0.8920 - val_loss: 0.3217 - val_accuracy: 0.8926\n",
      "Epoch 7/30\n",
      "453/453 [==============================] - 2s 4ms/step - loss: 0.3072 - accuracy: 0.8965 - val_loss: 0.3188 - val_accuracy: 0.8926\n",
      "Epoch 8/30\n",
      "453/453 [==============================] - 2s 5ms/step - loss: 0.3014 - accuracy: 0.8963 - val_loss: 0.3119 - val_accuracy: 0.9006\n",
      "Epoch 9/30\n",
      "453/453 [==============================] - 2s 4ms/step - loss: 0.2951 - accuracy: 0.9007 - val_loss: 0.3165 - val_accuracy: 0.9009\n",
      "Epoch 10/30\n",
      "453/453 [==============================] - 2s 4ms/step - loss: 0.2885 - accuracy: 0.9003 - val_loss: 0.3111 - val_accuracy: 0.9029\n",
      "Epoch 11/30\n",
      "453/453 [==============================] - 2s 4ms/step - loss: 0.2893 - accuracy: 0.9005 - val_loss: 0.3058 - val_accuracy: 0.9032\n",
      "Epoch 12/30\n",
      "453/453 [==============================] - 2s 4ms/step - loss: 0.2825 - accuracy: 0.9034 - val_loss: 0.3073 - val_accuracy: 0.9042\n",
      "Epoch 13/30\n",
      "453/453 [==============================] - 2s 4ms/step - loss: 0.2784 - accuracy: 0.9047 - val_loss: 0.3045 - val_accuracy: 0.9029\n",
      "Epoch 14/30\n",
      "453/453 [==============================] - 2s 4ms/step - loss: 0.2767 - accuracy: 0.9063 - val_loss: 0.3059 - val_accuracy: 0.9042\n",
      "Epoch 15/30\n",
      "453/453 [==============================] - 2s 4ms/step - loss: 0.2726 - accuracy: 0.9068 - val_loss: 0.3037 - val_accuracy: 0.8979\n",
      "Epoch 16/30\n",
      "453/453 [==============================] - 2s 4ms/step - loss: 0.2720 - accuracy: 0.9060 - val_loss: 0.3016 - val_accuracy: 0.8989\n",
      "Epoch 17/30\n",
      "453/453 [==============================] - 3s 6ms/step - loss: 0.2692 - accuracy: 0.9079 - val_loss: 0.3030 - val_accuracy: 0.9006\n",
      "Epoch 18/30\n",
      "453/453 [==============================] - 2s 5ms/step - loss: 0.2675 - accuracy: 0.9086 - val_loss: 0.3160 - val_accuracy: 0.9019\n",
      "Epoch 19/30\n",
      "453/453 [==============================] - 2s 4ms/step - loss: 0.2677 - accuracy: 0.9088 - val_loss: 0.3018 - val_accuracy: 0.8993\n",
      "Epoch 20/30\n",
      "453/453 [==============================] - 2s 5ms/step - loss: 0.2647 - accuracy: 0.9088 - val_loss: 0.3120 - val_accuracy: 0.8986\n",
      "Epoch 21/30\n",
      "453/453 [==============================] - 2s 4ms/step - loss: 0.2637 - accuracy: 0.9104 - val_loss: 0.3055 - val_accuracy: 0.9039\n",
      "Epoch 22/30\n",
      "453/453 [==============================] - 2s 4ms/step - loss: 0.2645 - accuracy: 0.9088 - val_loss: 0.3022 - val_accuracy: 0.8989\n",
      "Epoch 23/30\n",
      "453/453 [==============================] - 2s 4ms/step - loss: 0.2613 - accuracy: 0.9108 - val_loss: 0.3079 - val_accuracy: 0.9016\n",
      "Epoch 24/30\n",
      "453/453 [==============================] - 2s 4ms/step - loss: 0.2593 - accuracy: 0.9114 - val_loss: 0.3048 - val_accuracy: 0.9009\n",
      "Epoch 25/30\n",
      "453/453 [==============================] - 3s 6ms/step - loss: 0.2593 - accuracy: 0.9117 - val_loss: 0.3103 - val_accuracy: 0.9019\n",
      "Epoch 26/30\n",
      "453/453 [==============================] - 3s 6ms/step - loss: 0.2595 - accuracy: 0.9103 - val_loss: 0.3070 - val_accuracy: 0.9003\n",
      "Epoch 27/30\n",
      "453/453 [==============================] - ETA: 0s - loss: 0.2574 - accuracy: 0.91 - 2s 5ms/step - loss: 0.2573 - accuracy: 0.9130 - val_loss: 0.3071 - val_accuracy: 0.9003\n",
      "Epoch 28/30\n",
      "453/453 [==============================] - 2s 5ms/step - loss: 0.2579 - accuracy: 0.9123 - val_loss: 0.3069 - val_accuracy: 0.8973\n",
      "Epoch 29/30\n",
      "453/453 [==============================] - 2s 5ms/step - loss: 0.2565 - accuracy: 0.9116 - val_loss: 0.3148 - val_accuracy: 0.8933\n",
      "Epoch 30/30\n",
      "453/453 [==============================] - 2s 5ms/step - loss: 0.2563 - accuracy: 0.9117 - val_loss: 0.3076 - val_accuracy: 0.8999\n"
     ]
    }
   ],
   "source": [
    "epochs = 30\n",
    "batch_size = 60\n",
    "\n",
    "history = model.fit(X_train, Y_train, epochs=epochs, batch_size=batch_size,validation_split=0.1)"
   ]
  },
  {
   "cell_type": "markdown",
   "id": "d66f96f1",
   "metadata": {},
   "source": [
    "#### Possíveis melhorias:\n",
    "- Adicionar mais camadas na rede\n",
    "- Testar mais parâmetros\n",
    "- Balancear a base de dados, frases sem intents tem um número maior de entradas"
   ]
  },
  {
   "cell_type": "markdown",
   "id": "ce32ef80",
   "metadata": {},
   "source": [
    "## Extração de Intenções"
   ]
  },
  {
   "cell_type": "code",
   "execution_count": null,
   "id": "0929086a",
   "metadata": {},
   "outputs": [],
   "source": []
  }
 ],
 "metadata": {
  "kernelspec": {
   "display_name": "Python 3 (ipykernel)",
   "language": "python",
   "name": "python3"
  },
  "language_info": {
   "codemirror_mode": {
    "name": "ipython",
    "version": 3
   },
   "file_extension": ".py",
   "mimetype": "text/x-python",
   "name": "python",
   "nbconvert_exporter": "python",
   "pygments_lexer": "ipython3",
   "version": "3.9.7"
  }
 },
 "nbformat": 4,
 "nbformat_minor": 5
}
